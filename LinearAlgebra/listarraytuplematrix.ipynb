{
 "metadata": {
  "language_info": {
   "codemirror_mode": {
    "name": "ipython",
    "version": 3
   },
   "file_extension": ".py",
   "mimetype": "text/x-python",
   "name": "python",
   "nbconvert_exporter": "python",
   "pygments_lexer": "ipython3",
   "version": "3.7.6-final"
  },
  "orig_nbformat": 2,
  "kernelspec": {
   "name": "python3",
   "display_name": "Python 3"
  }
 },
 "nbformat": 4,
 "nbformat_minor": 2,
 "cells": [
  {
   "cell_type": "code",
   "execution_count": 20,
   "metadata": {
    "tags": []
   },
   "outputs": [],
   "source": [
    "import array as pArr\n",
    "import numpy as np\n",
    "import sympy as sym\n",
    "import scipy as sc\n",
    "import scipy.linalg as la\n",
    "import matplotlib.pyplot as plt\n",
    "import os\n",
    "import nbformat\n",
    "from nbconvert.preprocessors import ExecutePreprocessor\n",
    "from IPython.core.interactiveshell import InteractiveShell\n",
    "InteractiveShell.ast_node_interactivity = \"all\"\n",
    "module_path = os.path.abspath(os.path.join('..'))\n",
    "if module_path not in sys.path:\n",
    "    sys.path.append(module_path)\n",
    "from Easy_Pretty_Math.Display_Math_Operations import *\n",
    "# dmo_auto(status=True)\n",
    "sym.init_printing(use_latex='mathjax', latex_mode='equation*')\n",
    "# init_printing(pretty_print=True)\n",
    "x, y, z, k, w = sym.symbols('x, y, z, k, w')"
   ]
  },
  {
   "cell_type": "markdown",
   "metadata": {},
   "source": [
    "There are several ways to define linear matrixes in python.  Using Sympy, we define a matrix using the Sympy.Matrix class but elsewhere in python (Numpy,SciPy, ex) it is usually better to use np.arrays than matrixes.  Sympy is the primary way to convert code into classical math symbols in python and thus, is used extensively on the pages of this website.  Sypmy.Matrix's are not directly the same thing as Numpy Arrays but they can be converted, one into the other.\n",
    "\n",
    "Below is a table of the differences between varies ways to represent sets of data in memory"
   ]
  },
  {
   "cell_type": "markdown",
   "metadata": {},
   "source": [
    "<div>\n",
    "<table align=\"left\" class=\"MsoTableGrid\" style=\"width:733px; border-collapse:collapse; border:none; margin-left:9px; margin-right:9px\" width=\"733\">\n",
    "\t<tbody>\n",
    "\t\t<tr>\n",
    "\t\t\t<td style=\"border-bottom:1px solid black; width:105px; padding:0in 7px 0in 7px; border-top:1px solid black; border-right:1px solid black; border-left:1px solid black\" valign=\"top\">\n",
    "\t\t\t<p>&nbsp;</p>\n",
    "\t\t\t</td>\n",
    "\t\t\t<td style=\"border-bottom:1px solid black; width:105px; padding:0in 7px 0in 7px; border-top:1px solid black; border-right:1px solid black; border-left:none\" valign=\"top\">\n",
    "\t\t\t<p><span style=\"font-size:12pt\"><span style=\"font-family:&quot;Times New Roman&quot;,&quot;serif&quot;\"><font size=\"3\"><font face=\"Times New Roman\"><span style=\"font-size:12.0pt\">List</span></font></font></span></span></p>\n",
    "\t\t\t</td>\n",
    "\t\t\t<td style=\"border-bottom:1px solid black; width:105px; padding:0in 7px 0in 7px; border-top:1px solid black; border-right:1px solid black; border-left:none\" valign=\"top\">\n",
    "\t\t\t<p><span style=\"font-size:12pt\"><span style=\"font-family:&quot;Times New Roman&quot;,&quot;serif&quot;\"><font size=\"3\"><font face=\"Times New Roman\"><span style=\"font-size:12.0pt\">Python Array</span></font></font></span></span></p>\n",
    "\t\t\t</td>\n",
    "\t\t\t<td style=\"border-bottom:1px solid black; width:105px; padding:0in 7px 0in 7px; border-top:1px solid black; border-right:1px solid black; border-left:none\" valign=\"top\">\n",
    "\t\t\t<p><span style=\"font-size:12pt\"><span style=\"font-family:&quot;Times New Roman&quot;,&quot;serif&quot;\"><font size=\"3\"><font face=\"Times New Roman\"><span style=\"font-size:12.0pt\">Numpy Array</span></font></font></span></span></p>\n",
    "\t\t\t</td>\n",
    "\t\t\t<td style=\"border-bottom:1px solid black; width:105px; padding:0in 7px 0in 7px; border-top:1px solid black; border-right:1px solid black; border-left:none\" valign=\"top\">\n",
    "\t\t\t<p><span style=\"font-size:12pt\"><span style=\"font-family:&quot;Times New Roman&quot;,&quot;serif&quot;\"><font size=\"3\"><font face=\"Times New Roman\"><span style=\"font-size:12.0pt\">Tuple</span></font></font></span></span></p>\n",
    "\t\t\t</td>\n",
    "\t\t\t<td style=\"border-bottom:1px solid black; width:118px; padding:0in 7px 0in 7px; border-top:1px solid black; border-right:1px solid black; border-left:none\" valign=\"top\">\n",
    "\t\t\t<p><span style=\"font-size:12pt\"><span style=\"font-family:&quot;Times New Roman&quot;,&quot;serif&quot;\"><font size=\"3\"><font face=\"Times New Roman\"><span style=\"font-size:12.0pt\">Sympy Matrix</span></font></font></span></span></p>\n",
    "\t\t\t</td>\n",
    "\t\t\t<td style=\"border-bottom:1px solid black; width:92px; padding:0in 7px 0in 7px; border-top:1px solid black; border-right:1px solid black; border-left:none\" valign=\"top\">\n",
    "\t\t\t<p align=\"center\" style=\"text-align:center\"><span style=\"font-size:12pt\"><span style=\"font-family:&quot;Times New Roman&quot;,&quot;serif&quot;\"><font size=\"3\"><font face=\"Times New Roman\"><span style=\"font-size:12.0pt\">Dictionary</span></font></font></span></span></p>\n",
    "\t\t\t</td>\n",
    "\t\t</tr>\n",
    "\t\t<tr>\n",
    "\t\t\t<td style=\"border-bottom:1px solid black; width:105px; padding:0in 7px 0in 7px; border-top:none; border-right:1px solid black; border-left:1px solid black\" valign=\"top\">\n",
    "\t\t\t<p><span style=\"font-size:12pt\"><span style=\"font-family:&quot;Times New Roman&quot;,&quot;serif&quot;\"><font size=\"3\"><font face=\"Times New Roman\"><span style=\"font-size:12.0pt\">Ordered</span></font></font></span></span></p>\n",
    "\t\t\t</td>\n",
    "\t\t\t<td style=\"border-bottom:1px solid black; width:105px; padding:0in 7px 0in 7px; border-top:none; border-right:1px solid black; border-left:none\" valign=\"top\">\n",
    "\t\t\t<p><span style=\"font-size:12pt\"><span style=\"font-family:&quot;Times New Roman&quot;,&quot;serif&quot;\"><font size=\"3\"><font face=\"Times New Roman\"><span style=\"font-size:12.0pt\">X</span></font></font></span></span></p>\n",
    "\t\t\t</td>\n",
    "\t\t\t<td style=\"border-bottom:1px solid black; width:105px; padding:0in 7px 0in 7px; border-top:none; border-right:1px solid black; border-left:none\" valign=\"top\">\n",
    "\t\t\t<p><span style=\"font-size:12pt\"><span style=\"font-family:&quot;Times New Roman&quot;,&quot;serif&quot;\"><font size=\"3\"><font face=\"Times New Roman\"><span style=\"font-size:12.0pt\">X</span></font></font></span></span></p>\n",
    "\t\t\t</td>\n",
    "\t\t\t<td style=\"border-bottom:1px solid black; width:105px; padding:0in 7px 0in 7px; border-top:none; border-right:1px solid black; border-left:none\" valign=\"top\">\n",
    "\t\t\t<p><span style=\"font-size:12pt\"><span style=\"font-family:&quot;Times New Roman&quot;,&quot;serif&quot;\"><font size=\"3\"><font face=\"Times New Roman\"><span style=\"font-size:12.0pt\">X</span></font></font></span></span></p>\n",
    "\t\t\t</td>\n",
    "\t\t\t<td style=\"border-bottom:1px solid black; width:105px; padding:0in 7px 0in 7px; border-top:none; border-right:1px solid black; border-left:none\" valign=\"top\">\n",
    "\t\t\t<p><span style=\"font-size:12pt\"><span style=\"font-family:&quot;Times New Roman&quot;,&quot;serif&quot;\"><font size=\"3\"><font face=\"Times New Roman\"><span style=\"font-size:12.0pt\">X</span></font></font></span></span></p>\n",
    "\t\t\t</td>\n",
    "\t\t\t<td style=\"border-bottom:1px solid black; width:118px; padding:0in 7px 0in 7px; border-top:none; border-right:1px solid black; border-left:none\" valign=\"top\">\n",
    "\t\t\t<p><span style=\"font-size:12pt\"><span style=\"font-family:&quot;Times New Roman&quot;,&quot;serif&quot;\"><font size=\"3\"><font face=\"Times New Roman\"><span style=\"font-size:12.0pt\">X</span></font></font></span></span></p>\n",
    "\t\t\t</td>\n",
    "\t\t\t<td style=\"border-bottom:1px solid black; width:92px; padding:0in 7px 0in 7px; border-top:none; border-right:1px solid black; border-left:none\" valign=\"top\">\n",
    "\t\t\t<p>&nbsp;</p>\n",
    "\t\t\t</td>\n",
    "\t\t</tr>\n",
    "\t\t<tr>\n",
    "\t\t\t<td style=\"border-bottom:1px solid black; width:105px; padding:0in 7px 0in 7px; border-top:none; border-right:1px solid black; border-left:1px solid black\" valign=\"top\">\n",
    "\t\t\t<p><span style=\"font-size:12pt\"><span style=\"font-family:&quot;Times New Roman&quot;,&quot;serif&quot;\"><font size=\"3\"><font face=\"Times New Roman\"><span style=\"font-size:12.0pt\">Mutable</span></font></font></span></span></p>\n",
    "\t\t\t</td>\n",
    "\t\t\t<td style=\"border-bottom:1px solid black; width:105px; padding:0in 7px 0in 7px; border-top:none; border-right:1px solid black; border-left:none\" valign=\"top\">\n",
    "\t\t\t<p><span style=\"font-size:12pt\"><span style=\"font-family:&quot;Times New Roman&quot;,&quot;serif&quot;\"><font size=\"3\"><font face=\"Times New Roman\"><span style=\"font-size:12.0pt\">X</span></font></font></span></span></p>\n",
    "\t\t\t</td>\n",
    "\t\t\t<td style=\"border-bottom:1px solid black; width:105px; padding:0in 7px 0in 7px; border-top:none; border-right:1px solid black; border-left:none\" valign=\"top\">\n",
    "\t\t\t<p><span style=\"font-size:12pt\"><span style=\"font-family:&quot;Times New Roman&quot;,&quot;serif&quot;\"><font size=\"3\"><font face=\"Times New Roman\"><span style=\"font-size:12.0pt\">X</span></font></font></span></span></p>\n",
    "\t\t\t</td>\n",
    "\t\t\t<td style=\"border-bottom:1px solid black; width:105px; padding:0in 7px 0in 7px; border-top:none; border-right:1px solid black; border-left:none\" valign=\"top\">\n",
    "\t\t\t<p><span style=\"font-size:12pt\"><span style=\"font-family:&quot;Times New Roman&quot;,&quot;serif&quot;\"><font size=\"3\"><font face=\"Times New Roman\"><span style=\"font-size:12.0pt\">X</span></font></font></span></span></p>\n",
    "\t\t\t</td>\n",
    "\t\t\t<td style=\"border-bottom:1px solid black; width:105px; padding:0in 7px 0in 7px; border-top:none; border-right:1px solid black; border-left:none\" valign=\"top\">\n",
    "\t\t\t<p>&nbsp;</p>\n",
    "\t\t\t</td>\n",
    "\t\t\t<td style=\"border-bottom:1px solid black; width:118px; padding:0in 7px 0in 7px; border-top:none; border-right:1px solid black; border-left:none\" valign=\"top\">\n",
    "\t\t\t<p>&nbsp;</p>\n",
    "\t\t\t</td>\n",
    "\t\t\t<td style=\"border-bottom:1px solid black; width:92px; padding:0in 7px 0in 7px; border-top:none; border-right:1px solid black; border-left:none\" valign=\"top\">\n",
    "\t\t\t<p><span style=\"font-size:12pt\"><span style=\"font-family:&quot;Times New Roman&quot;,&quot;serif&quot;\"><font size=\"3\"><font face=\"Times New Roman\"><span style=\"font-size:12.0pt\">X</span></font></font></span></span></p>\n",
    "\t\t\t</td>\n",
    "\t\t</tr>\n",
    "\t\t<tr>\n",
    "\t\t\t<td style=\"border-bottom:1px solid black; width:105px; padding:0in 7px 0in 7px; border-top:none; border-right:1px solid black; border-left:1px solid black\" valign=\"top\">\n",
    "\t\t\t<p><span style=\"font-size:12pt\"><span style=\"font-family:&quot;Times New Roman&quot;,&quot;serif&quot;\"><font size=\"3\"><font face=\"Times New Roman\"><span style=\"font-size:12.0pt\">Syntax</span></font></font></span></span></p>\n",
    "\t\t\t</td>\n",
    "\t\t\t<td style=\"border-bottom:1px solid black; width:105px; padding:0in 7px 0in 7px; border-top:none; border-right:1px solid black; border-left:none\" valign=\"top\">\n",
    "\t\t\t<p><span style=\"font-size:12pt\"><span style=\"font-family:&quot;Times New Roman&quot;,&quot;serif&quot;\"><font size=\"3\"><font face=\"Times New Roman\"><span style=\"font-size:12.0pt\">[ ]</span></font></font></span></span></p>\n",
    "\t\t\t</td>\n",
    "\t\t\t<td style=\"border-bottom:1px solid black; width:105px; padding:0in 7px 0in 7px; border-top:none; border-right:1px solid black; border-left:none\" valign=\"top\">\n",
    "\t\t\t<p><span style=\"font-size:12pt\"><span style=\"font-family:&quot;Times New Roman&quot;,&quot;serif&quot;\"><font size=\"3\"><font face=\"Times New Roman\"><span style=\"font-size:12.0pt\">arr.array([ ])</span></font></font></span></span></p>\n",
    "\t\t\t</td>\n",
    "\t\t\t<td style=\"border-bottom:1px solid black; width:105px; padding:0in 7px 0in 7px; border-top:none; border-right:1px solid black; border-left:none\" valign=\"top\">\n",
    "\t\t\t<p><span style=\"font-size:12pt\"><span style=\"font-family:&quot;Times New Roman&quot;,&quot;serif&quot;\"><font size=\"3\"><font face=\"Times New Roman\"><span style=\"font-size:12.0pt\">np.array([ ])</span></font></font></span></span></p>\n",
    "\t\t\t</td>\n",
    "\t\t\t<td style=\"border-bottom:1px solid black; width:105px; padding:0in 7px 0in 7px; border-top:none; border-right:1px solid black; border-left:none\" valign=\"top\">\n",
    "\t\t\t<p><span style=\"font-size:12pt\"><span style=\"font-family:&quot;Times New Roman&quot;,&quot;serif&quot;\"><font size=\"3\"><font face=\"Times New Roman\"><span style=\"font-size:12.0pt\">( )</span></font></font></span></span></p>\n",
    "\t\t\t</td>\n",
    "\t\t\t<td style=\"border-bottom:1px solid black; width:118px; padding:0in 7px 0in 7px; border-top:none; border-right:1px solid black; border-left:none\" valign=\"top\">\n",
    "\t\t\t<p><span style=\"font-size:12pt\"><span style=\"font-family:&quot;Times New Roman&quot;,&quot;serif&quot;\"><font size=\"3\"><font face=\"Times New Roman\"><span style=\"font-size:12.0pt\">sym.Matrix([ ])</span></font></font></span></span></p>\n",
    "\t\t\t</td>\n",
    "\t\t\t<td style=\"border-bottom:1px solid black; width:92px; padding:0in 7px 0in 7px; border-top:none; border-right:1px solid black; border-left:none\" valign=\"top\">\n",
    "\t\t\t<p><span style=\"font-size:12pt\"><span style=\"font-family:&quot;Times New Roman&quot;,&quot;serif&quot;\"><font size=\"3\"><font face=\"Times New Roman\"><span style=\"font-size:12.0pt\">{ }</span></font></font></span></span></p>\n",
    "\t\t\t</td>\n",
    "\t\t</tr>\n",
    "\t\t<tr>\n",
    "\t\t\t<td style=\"border-bottom:1px solid black; width:105px; padding:0in 7px 0in 7px; border-top:none; border-right:1px solid black; border-left:1px solid black\" valign=\"top\">\n",
    "\t\t\t<p><span style=\"font-size:12pt\"><span style=\"font-family:&quot;Times New Roman&quot;,&quot;serif&quot;\"><font size=\"3\"><font face=\"Times New Roman\"><span style=\"font-size:12.0pt\">Duplicates</span></font></font></span></span></p>\n",
    "\t\t\t</td>\n",
    "\t\t\t<td style=\"border-bottom:1px solid black; width:105px; padding:0in 7px 0in 7px; border-top:none; border-right:1px solid black; border-left:none\" valign=\"top\">\n",
    "\t\t\t<p><span style=\"font-size:12pt\"><span style=\"font-family:&quot;Times New Roman&quot;,&quot;serif&quot;\"><font size=\"3\"><font face=\"Times New Roman\"><span style=\"font-size:12.0pt\">X</span></font></font></span></span></p>\n",
    "\t\t\t</td>\n",
    "\t\t\t<td style=\"border-bottom:1px solid black; width:105px; padding:0in 7px 0in 7px; border-top:none; border-right:1px solid black; border-left:none\" valign=\"top\">\n",
    "\t\t\t<p><span style=\"font-size:12pt\"><span style=\"font-family:&quot;Times New Roman&quot;,&quot;serif&quot;\"><font size=\"3\"><font face=\"Times New Roman\"><span style=\"font-size:12.0pt\">X</span></font></font></span></span></p>\n",
    "\t\t\t</td>\n",
    "\t\t\t<td style=\"border-bottom:1px solid black; width:105px; padding:0in 7px 0in 7px; border-top:none; border-right:1px solid black; border-left:none\" valign=\"top\">\n",
    "\t\t\t<p><span style=\"font-size:12pt\"><span style=\"font-family:&quot;Times New Roman&quot;,&quot;serif&quot;\"><font size=\"3\"><font face=\"Times New Roman\"><span style=\"font-size:12.0pt\">X</span></font></font></span></span></p>\n",
    "\t\t\t</td>\n",
    "\t\t\t<td style=\"border-bottom:1px solid black; width:105px; padding:0in 7px 0in 7px; border-top:none; border-right:1px solid black; border-left:none\" valign=\"top\">\n",
    "\t\t\t<p>&nbsp;</p>\n",
    "\t\t\t</td>\n",
    "\t\t\t<td style=\"border-bottom:1px solid black; width:118px; padding:0in 7px 0in 7px; border-top:none; border-right:1px solid black; border-left:none\" valign=\"top\">\n",
    "\t\t\t<p>&nbsp;</p>\n",
    "\t\t\t</td>\n",
    "\t\t\t<td style=\"border-bottom:1px solid black; width:92px; padding:0in 7px 0in 7px; border-top:none; border-right:1px solid black; border-left:none\" valign=\"top\">\n",
    "\t\t\t<p>&nbsp;</p>\n",
    "\t\t\t</td>\n",
    "\t\t</tr>\n",
    "\t\t<tr>\n",
    "\t\t\t<td style=\"border-bottom:1px solid black; width:105px; padding:0in 7px 0in 7px; border-top:none; border-right:1px solid black; border-left:1px solid black\" valign=\"top\">\n",
    "\t\t\t<p><span style=\"font-size:12pt\"><span style=\"font-family:&quot;Times New Roman&quot;,&quot;serif&quot;\"><font size=\"3\"><font face=\"Times New Roman\"><span style=\"font-size:12.0pt\">Type Mixing</span></font></font></span></span></p>\n",
    "\t\t\t</td>\n",
    "\t\t\t<td style=\"border-bottom:1px solid black; width:105px; padding:0in 7px 0in 7px; border-top:none; border-right:1px solid black; border-left:none\" valign=\"top\">\n",
    "\t\t\t<p><span style=\"font-size:12pt\"><span style=\"font-family:&quot;Times New Roman&quot;,&quot;serif&quot;\"><font size=\"3\"><font face=\"Times New Roman\"><span style=\"font-size:12.0pt\">X</span></font></font></span></span></p>\n",
    "\t\t\t</td>\n",
    "\t\t\t<td style=\"border-bottom:1px solid black; width:105px; padding:0in 7px 0in 7px; border-top:none; border-right:1px solid black; border-left:none\" valign=\"top\">\n",
    "\t\t\t<p>&nbsp;</p>\n",
    "\t\t\t</td>\n",
    "\t\t\t<td style=\"border-bottom:1px solid black; width:105px; padding:0in 7px 0in 7px; border-top:none; border-right:1px solid black; border-left:none\" valign=\"top\">\n",
    "\t\t\t<p><span style=\"font-size:12pt\"><span style=\"font-family:&quot;Times New Roman&quot;,&quot;serif&quot;\"><font size=\"3\"><font face=\"Times New Roman\"><span style=\"font-size:12.0pt\">X</span></font></font></span></span></p>\n",
    "\t\t\t</td>\n",
    "\t\t\t<td style=\"border-bottom:1px solid black; width:105px; padding:0in 7px 0in 7px; border-top:none; border-right:1px solid black; border-left:none\" valign=\"top\">\n",
    "\t\t\t<p><span style=\"font-size:12pt\"><span style=\"font-family:&quot;Times New Roman&quot;,&quot;serif&quot;\"><font size=\"3\"><font face=\"Times New Roman\"><span style=\"font-size:12.0pt\">X</span></font></font></span></span></p>\n",
    "\t\t\t</td>\n",
    "\t\t\t<td style=\"border-bottom:1px solid black; width:118px; padding:0in 7px 0in 7px; border-top:none; border-right:1px solid black; border-left:none\" valign=\"top\">\n",
    "\t\t\t<p><span style=\"font-size:12pt\"><span style=\"font-family:&quot;Times New Roman&quot;,&quot;serif&quot;\"><font size=\"3\"><font face=\"Times New Roman\"><span style=\"font-size:12.0pt\">Kind of</span></font></font></span></span></p>\n",
    "\t\t\t</td>\n",
    "\t\t\t<td style=\"border-bottom:1px solid black; width:92px; padding:0in 7px 0in 7px; border-top:none; border-right:1px solid black; border-left:none\" valign=\"top\">\n",
    "\t\t\t<p><span style=\"font-size:12pt\"><span style=\"font-family:&quot;Times New Roman&quot;,&quot;serif&quot;\"><font size=\"3\"><font face=\"Times New Roman\"><span style=\"font-size:12.0pt\">X</span></font></font></span></span></p>\n",
    "\t\t\t</td>\n",
    "\t\t</tr>\n",
    "\t\t<tr>\n",
    "\t\t\t<td style=\"border-bottom:1px solid black; width:105px; padding:0in 7px 0in 7px; border-top:none; border-right:1px solid black; border-left:1px solid black\" valign=\"top\">\n",
    "\t\t\t<p><span style=\"font-size:12pt\"><span style=\"font-family:&quot;Times New Roman&quot;,&quot;serif&quot;\"><font size=\"3\"><font face=\"Times New Roman\"><span style=\"font-size:12.0pt\">Need Declaration</span></font></font></span></span></p>\n",
    "\t\t\t</td>\n",
    "\t\t\t<td style=\"border-bottom:1px solid black; width:105px; padding:0in 7px 0in 7px; border-top:none; border-right:1px solid black; border-left:none\" valign=\"top\">\n",
    "\t\t\t<p>&nbsp;</p>\n",
    "\t\t\t</td>\n",
    "\t\t\t<td style=\"border-bottom:1px solid black; width:105px; padding:0in 7px 0in 7px; border-top:none; border-right:1px solid black; border-left:none\" valign=\"top\">\n",
    "\t\t\t<p><span style=\"font-size:12pt\"><span style=\"font-family:&quot;Times New Roman&quot;,&quot;serif&quot;\"><font size=\"3\"><font face=\"Times New Roman\"><span style=\"font-size:12.0pt\">X</span></font></font></span></span></p>\n",
    "\t\t\t</td>\n",
    "\t\t\t<td style=\"border-bottom:1px solid black; width:105px; padding:0in 7px 0in 7px; border-top:none; border-right:1px solid black; border-left:none\" valign=\"top\">\n",
    "\t\t\t<p><span style=\"font-size:12pt\"><span style=\"font-family:&quot;Times New Roman&quot;,&quot;serif&quot;\"><font size=\"3\"><font face=\"Times New Roman\"><span style=\"font-size:12.0pt\">X</span></font></font></span></span></p>\n",
    "\t\t\t</td>\n",
    "\t\t\t<td style=\"border-bottom:1px solid black; width:105px; padding:0in 7px 0in 7px; border-top:none; border-right:1px solid black; border-left:none\" valign=\"top\">\n",
    "\t\t\t<p>&nbsp;</p>\n",
    "\t\t\t</td>\n",
    "\t\t\t<td style=\"border-bottom:1px solid black; width:118px; padding:0in 7px 0in 7px; border-top:none; border-right:1px solid black; border-left:none\" valign=\"top\">\n",
    "\t\t\t<p><span style=\"font-size:12pt\"><span style=\"font-family:&quot;Times New Roman&quot;,&quot;serif&quot;\"><font size=\"3\"><font face=\"Times New Roman\"><span style=\"font-size:12.0pt\">X</span></font></font></span></span></p>\n",
    "\t\t\t</td>\n",
    "\t\t\t<td style=\"border-bottom:1px solid black; width:92px; padding:0in 7px 0in 7px; border-top:none; border-right:1px solid black; border-left:none\" valign=\"top\">\n",
    "\t\t\t<p>&nbsp;</p>\n",
    "\t\t\t</td>\n",
    "\t\t</tr>\n",
    "\t\t<tr>\n",
    "\t\t\t<td style=\"border-bottom:1px solid black; width:105px; padding:0in 7px 0in 7px; border-top:none; border-right:1px solid black; border-left:1px solid black\" valign=\"top\">\n",
    "\t\t\t<p><span style=\"font-size:12pt\"><span style=\"font-family:&quot;Times New Roman&quot;,&quot;serif&quot;\"><font size=\"3\"><font face=\"Times New Roman\"><span style=\"font-size:12.0pt\">Memory</span></font></font></span></span></p>\n",
    "\t\t\t</td>\n",
    "\t\t\t<td style=\"border-bottom:1px solid black; width:105px; padding:0in 7px 0in 7px; border-top:none; border-right:1px solid black; border-left:none\" valign=\"top\">\n",
    "\t\t\t<p><span style=\"font-size:12pt\"><span style=\"font-family:&quot;Times New Roman&quot;,&quot;serif&quot;\"><font size=\"3\"><font face=\"Times New Roman\"><span style=\"font-size:12.0pt\">High</span></font></font></span></span></p>\n",
    "\t\t\t</td>\n",
    "\t\t\t<td style=\"border-bottom:1px solid black; width:105px; padding:0in 7px 0in 7px; border-top:none; border-right:1px solid black; border-left:none\" valign=\"top\">\n",
    "\t\t\t<p><span style=\"font-size:12pt\"><span style=\"font-family:&quot;Times New Roman&quot;,&quot;serif&quot;\"><font size=\"3\"><font face=\"Times New Roman\"><span style=\"font-size:12.0pt\">Lower</span></font></font></span></span></p>\n",
    "\t\t\t</td>\n",
    "\t\t\t<td style=\"border-bottom:1px solid black; width:105px; padding:0in 7px 0in 7px; border-top:none; border-right:1px solid black; border-left:none\" valign=\"top\">\n",
    "\t\t\t<p><span style=\"font-size:12pt\"><span style=\"font-family:&quot;Times New Roman&quot;,&quot;serif&quot;\"><font size=\"3\"><font face=\"Times New Roman\"><span style=\"font-size:12.0pt\">Lower</span></font></font></span></span></p>\n",
    "\t\t\t</td>\n",
    "\t\t\t<td style=\"border-bottom:1px solid black; width:105px; padding:0in 7px 0in 7px; border-top:none; border-right:1px solid black; border-left:none\" valign=\"top\">\n",
    "\t\t\t<p><span style=\"font-size:12pt\"><span style=\"font-family:&quot;Times New Roman&quot;,&quot;serif&quot;\"><font size=\"3\"><font face=\"Times New Roman\"><span style=\"font-size:12.0pt\">Lower</span></font></font></span></span></p>\n",
    "\t\t\t</td>\n",
    "\t\t\t<td style=\"border-bottom:1px solid black; width:118px; padding:0in 7px 0in 7px; border-top:none; border-right:1px solid black; border-left:none\" valign=\"top\">\n",
    "\t\t\t<p>&nbsp;</p>\n",
    "\t\t\t</td>\n",
    "\t\t\t<td style=\"border-bottom:1px solid black; width:92px; padding:0in 7px 0in 7px; border-top:none; border-right:1px solid black; border-left:none\" valign=\"top\">\n",
    "\t\t\t<p><span style=\"font-size:12pt\"><span style=\"font-family:&quot;Times New Roman&quot;,&quot;serif&quot;\"><font size=\"3\"><font face=\"Times New Roman\"><span style=\"font-size:12.0pt\">High</span></font></font></span></span></p>\n",
    "\t\t\t</td>\n",
    "\t\t</tr>\n",
    "\t\t<tr>\n",
    "\t\t\t<td style=\"border-bottom:1px solid black; width:105px; padding:0in 7px 0in 7px; border-top:none; border-right:1px solid black; border-left:1px solid black\" valign=\"top\">\n",
    "\t\t\t<p><span style=\"font-size:12pt\"><span style=\"font-family:&quot;Times New Roman&quot;,&quot;serif&quot;\"><font size=\"3\"><font face=\"Times New Roman\"><span style=\"font-size:12.0pt\">Notes</span></font></font></span></span></p>\n",
    "\t\t\t</td>\n",
    "\t\t\t<td style=\"border-bottom:1px solid black; width:105px; padding:0in 7px 0in 7px; border-top:none; border-right:1px solid black; border-left:none\" valign=\"top\">\n",
    "\t\t\t<p>&nbsp;</p>\n",
    "\t\t\t</td>\n",
    "\t\t\t<td style=\"border-bottom:1px solid black; width:105px; padding:0in 7px 0in 7px; border-top:none; border-right:1px solid black; border-left:none\" valign=\"top\">\n",
    "\t\t\t<p><span style=\"font-size:12pt\"><span style=\"font-family:&quot;Times New Roman&quot;,&quot;serif&quot;\"><font size=\"3\"><font face=\"Times New Roman\"><span style=\"font-size:12.0pt\">import array as arr</span></font></font></span></span></p>\n",
    "\t\t\t</td>\n",
    "\t\t\t<td style=\"border-bottom:1px solid black; width:105px; padding:0in 7px 0in 7px; border-top:none; border-right:1px solid black; border-left:none\" valign=\"top\">\n",
    "\t\t\t<p><span style=\"font-size:12pt\"><span style=\"font-family:&quot;Times New Roman&quot;,&quot;serif&quot;\"><font size=\"3\"><font face=\"Times New Roman\"><span style=\"font-size:12.0pt\">import numpy as np</span></font></font></span></span></p>\n",
    "\t\t\t</td>\n",
    "\t\t\t<td style=\"border-bottom:1px solid black; width:105px; padding:0in 7px 0in 7px; border-top:none; border-right:1px solid black; border-left:none\" valign=\"top\">\n",
    "\t\t\t<p><span style=\"font-size:12pt\"><span style=\"font-family:&quot;Times New Roman&quot;,&quot;serif&quot;\"><font size=\"3\"><font face=\"Times New Roman\"><span style=\"font-size:12.0pt\">Can be used as keys</span></font></font></span></span></p>\n",
    "\t\t\t</td>\n",
    "\t\t\t<td style=\"border-bottom:1px solid black; width:118px; padding:0in 7px 0in 7px; border-top:none; border-right:1px solid black; border-left:none\" valign=\"top\">\n",
    "\t\t\t<p><span style=\"font-size:12pt\"><span style=\"font-family:&quot;Times New Roman&quot;,&quot;serif&quot;\"><font size=\"3\"><font face=\"Times New Roman\"><span style=\"font-size:12.0pt\">import sympy as sym</span></font></font></span></span></p>\n",
    "\t\t\t</td>\n",
    "\t\t\t<td style=\"border-bottom:1px solid black; width:92px; padding:0in 7px 0in 7px; border-top:none; border-right:1px solid black; border-left:none\" valign=\"top\">\n",
    "\t\t\t<p><span style=\"font-size:12pt\"><span style=\"font-family:&quot;Times New Roman&quot;,&quot;serif&quot;\"><font size=\"3\"><font face=\"Times New Roman\"><span style=\"font-size:12.0pt\">Requires {key:value} pairs</span></font></font></span></span></p>\n",
    "\t\t\t</td>\n",
    "\t\t</tr>\n",
    "\t</tbody>\n",
    "</table>\n",
    "</div>\n"
   ]
  },
  {
   "cell_type": "markdown",
   "metadata": {},
   "source": [
    "**Lists**\n",
    "\n",
    "Most versatile, but not appropriate for math operations"
   ]
  },
  {
   "cell_type": "code",
   "execution_count": 9,
   "metadata": {},
   "outputs": [
    {
     "output_type": "execute_result",
     "data": {
      "text/plain": "['this', 'is', 'a list', 1234, {1, 'things'}, [1, 2]]"
     },
     "metadata": {},
     "execution_count": 9
    }
   ],
   "source": [
    "[\"this\",'is','a list',1234,{1,\"things\"},[1,2]]"
   ]
  },
  {
   "cell_type": "markdown",
   "metadata": {},
   "source": [
    "**Python Array**\n",
    "\n",
    "Needs to be the same type and to specify such"
   ]
  },
  {
   "cell_type": "code",
   "execution_count": 10,
   "metadata": {},
   "outputs": [
    {
     "output_type": "execute_result",
     "data": {
      "text/plain": "array('i', [1, 1, 2, 3, 5, 8, 13])"
     },
     "metadata": {},
     "execution_count": 10
    },
    {
     "output_type": "error",
     "ename": "TypeError",
     "evalue": "array() argument 1 must be a unicode character, not list",
     "traceback": [
      "\u001b[1;31m---------------------------------------------------------------------------\u001b[0m",
      "\u001b[1;31mTypeError\u001b[0m                                 Traceback (most recent call last)",
      "\u001b[1;32m<ipython-input-10-e64cb926f8d1>\u001b[0m in \u001b[0;36m<module>\u001b[1;34m\u001b[0m\n\u001b[0;32m      1\u001b[0m \u001b[0mpArr\u001b[0m\u001b[1;33m.\u001b[0m\u001b[0marray\u001b[0m\u001b[1;33m(\u001b[0m\u001b[1;34m'i'\u001b[0m\u001b[1;33m,\u001b[0m\u001b[1;33m[\u001b[0m\u001b[1;36m1\u001b[0m\u001b[1;33m,\u001b[0m\u001b[1;36m1\u001b[0m\u001b[1;33m,\u001b[0m\u001b[1;36m2\u001b[0m\u001b[1;33m,\u001b[0m\u001b[1;36m3\u001b[0m\u001b[1;33m,\u001b[0m\u001b[1;36m5\u001b[0m\u001b[1;33m,\u001b[0m\u001b[1;36m8\u001b[0m\u001b[1;33m,\u001b[0m\u001b[1;36m13\u001b[0m\u001b[1;33m]\u001b[0m\u001b[1;33m)\u001b[0m\u001b[1;33m\u001b[0m\u001b[1;33m\u001b[0m\u001b[0m\n\u001b[1;32m----> 2\u001b[1;33m \u001b[0mpArr\u001b[0m\u001b[1;33m.\u001b[0m\u001b[0marray\u001b[0m\u001b[1;33m(\u001b[0m\u001b[1;33m[\u001b[0m\u001b[1;36m1\u001b[0m\u001b[1;33m,\u001b[0m\u001b[1;36m3\u001b[0m\u001b[1;33m,\u001b[0m\u001b[1;34m'A'\u001b[0m\u001b[1;33m,\u001b[0m\u001b[1;33m[\u001b[0m\u001b[1;34m'something'\u001b[0m\u001b[1;33m]\u001b[0m\u001b[1;33m]\u001b[0m\u001b[1;33m)\u001b[0m \u001b[1;31m#Won't work\u001b[0m\u001b[1;33m\u001b[0m\u001b[1;33m\u001b[0m\u001b[0m\n\u001b[0m",
      "\u001b[1;31mTypeError\u001b[0m: array() argument 1 must be a unicode character, not list"
     ]
    }
   ],
   "source": [
    "pArr.array('i',[1,1,2,3,5,8,13])\n",
    "pArr.array([1,3,'A',['something']]) #Won't work"
   ]
  },
  {
   "cell_type": "code",
   "execution_count": 11,
   "metadata": {},
   "outputs": [
    {
     "output_type": "error",
     "ename": "TypeError",
     "evalue": "array() argument 1 must be a unicode character, not list",
     "traceback": [
      "\u001b[1;31m---------------------------------------------------------------------------\u001b[0m",
      "\u001b[1;31mTypeError\u001b[0m                                 Traceback (most recent call last)",
      "\u001b[1;32m<ipython-input-11-a5d63993c1c8>\u001b[0m in \u001b[0;36m<module>\u001b[1;34m\u001b[0m\n\u001b[1;32m----> 1\u001b[1;33m \u001b[0mpArr\u001b[0m\u001b[1;33m.\u001b[0m\u001b[0marray\u001b[0m\u001b[1;33m(\u001b[0m\u001b[1;33m[\u001b[0m\u001b[1;36m1\u001b[0m\u001b[1;33m,\u001b[0m\u001b[1;36m1\u001b[0m\u001b[1;33m,\u001b[0m\u001b[1;36m2\u001b[0m\u001b[1;33m,\u001b[0m\u001b[1;36m3\u001b[0m\u001b[1;33m,\u001b[0m\u001b[1;36m5\u001b[0m\u001b[1;33m,\u001b[0m\u001b[1;36m8\u001b[0m\u001b[1;33m,\u001b[0m\u001b[1;36m13\u001b[0m\u001b[1;33m]\u001b[0m\u001b[1;33m)\u001b[0m \u001b[1;31m#Also won't work\u001b[0m\u001b[1;33m\u001b[0m\u001b[1;33m\u001b[0m\u001b[0m\n\u001b[0m",
      "\u001b[1;31mTypeError\u001b[0m: array() argument 1 must be a unicode character, not list"
     ]
    }
   ],
   "source": [
    "pArr.array([1,1,2,3,5,8,13]) #Also won't work"
   ]
  },
  {
   "cell_type": "markdown",
   "metadata": {},
   "source": [
    "**Numpy Array**\n",
    "\n",
    "Numpy Arrays can have mixed types"
   ]
  },
  {
   "cell_type": "code",
   "execution_count": 12,
   "metadata": {},
   "outputs": [
    {
     "output_type": "execute_result",
     "data": {
      "text/plain": "array([1, 3, 'A', list(['something'])], dtype=object)"
     },
     "metadata": {},
     "execution_count": 12
    },
    {
     "output_type": "execute_result",
     "data": {
      "text/plain": "array([[9, 2, 3],\n       [4, 5, 6],\n       [7, 8, 9]])"
     },
     "metadata": {},
     "execution_count": 12
    },
    {
     "output_type": "execute_result",
     "data": {
      "text/plain": "array([[81,  4,  9],\n       [16, 25, 36],\n       [49, 64, 81]])"
     },
     "metadata": {},
     "execution_count": 12
    },
    {
     "output_type": "execute_result",
     "data": {
      "text/plain": "array([[110,  52,  66],\n       [ 98,  81,  96],\n       [158, 126, 150]])"
     },
     "metadata": {},
     "execution_count": 12
    },
    {
     "output_type": "execute_result",
     "data": {
      "text/plain": "array([[1., 0., 0.],\n       [0., 1., 0.],\n       [0., 0., 1.]])"
     },
     "metadata": {},
     "execution_count": 12
    },
    {
     "output_type": "execute_result",
     "data": {
      "text/plain": "array([[ 0.125     , -0.25      ,  0.125     ],\n       [-0.25      , -2.5       ,  1.75      ],\n       [ 0.125     ,  2.41666667, -1.54166667]])"
     },
     "metadata": {},
     "execution_count": 12
    }
   ],
   "source": [
    "np.array([1,3,'A',['something']]) \n",
    "n=np.array([[9,2,3],[4,5,6],[7,8,9]])\n",
    "n\n",
    "n*n\n",
    "n@n\n",
    "I=np.eye(3)\n",
    "I\n",
    "la.inv(n)"
   ]
  },
  {
   "cell_type": "markdown",
   "metadata": {},
   "source": [
    "**Tuple**\n",
    "\n",
    "Tuples cannot be mutated"
   ]
  },
  {
   "cell_type": "code",
   "execution_count": 19,
   "metadata": {},
   "outputs": [
    {
     "output_type": "execute_result",
     "data": {
      "text/plain": "(5, 't', 'aert t r ', {1: 'erdtyt'}, [1, 'yui'])"
     },
     "metadata": {},
     "execution_count": 19
    },
    {
     "output_type": "execute_result",
     "data": {
      "text/plain": "'aert t r '"
     },
     "metadata": {},
     "execution_count": 19
    },
    {
     "output_type": "execute_result",
     "data": {
      "text/plain": "25",
      "text/latex": "\\begin{equation*}25\\end{equation*}"
     },
     "metadata": {},
     "execution_count": 19
    },
    {
     "output_type": "error",
     "ename": "TypeError",
     "evalue": "'tuple' object does not support item assignment",
     "traceback": [
      "\u001b[1;31m---------------------------------------------------------------------------\u001b[0m",
      "\u001b[1;31mTypeError\u001b[0m                                 Traceback (most recent call last)",
      "\u001b[1;32m<ipython-input-19-ca69f9f8064e>\u001b[0m in \u001b[0;36m<module>\u001b[1;34m\u001b[0m\n\u001b[0;32m      3\u001b[0m \u001b[0mt\u001b[0m\u001b[1;33m[\u001b[0m\u001b[1;36m2\u001b[0m\u001b[1;33m]\u001b[0m\u001b[1;33m\u001b[0m\u001b[1;33m\u001b[0m\u001b[0m\n\u001b[0;32m      4\u001b[0m \u001b[0mt\u001b[0m\u001b[1;33m[\u001b[0m\u001b[1;36m0\u001b[0m\u001b[1;33m]\u001b[0m\u001b[1;33m*\u001b[0m\u001b[0mt\u001b[0m\u001b[1;33m[\u001b[0m\u001b[1;36m0\u001b[0m\u001b[1;33m]\u001b[0m\u001b[1;33m\u001b[0m\u001b[1;33m\u001b[0m\u001b[0m\n\u001b[1;32m----> 5\u001b[1;33m \u001b[0mt\u001b[0m\u001b[1;33m[\u001b[0m\u001b[1;36m2\u001b[0m\u001b[1;33m]\u001b[0m\u001b[1;33m=\u001b[0m\u001b[1;36m124\u001b[0m\u001b[1;33m\u001b[0m\u001b[1;33m\u001b[0m\u001b[0m\n\u001b[0m",
      "\u001b[1;31mTypeError\u001b[0m: 'tuple' object does not support item assignment"
     ]
    }
   ],
   "source": [
    "t=(5,'t',\"aert t r \",{1:\"erdtyt\"},[1,'yui'])\n",
    "t\n",
    "t[2]\n",
    "t[0]*t[0]\n",
    "t[2]=124"
   ]
  },
  {
   "cell_type": "markdown",
   "metadata": {},
   "source": [
    "**Sympy Matrix**\n",
    "\n"
   ]
  },
  {
   "cell_type": "code",
   "execution_count": 22,
   "metadata": {
    "tags": []
   },
   "outputs": [
    {
     "output_type": "execute_result",
     "data": {
      "text/plain": "⎡9  2  3⎤\n⎢       ⎥\n⎢4  5  X⎥\n⎢       ⎥\n⎣7  8  9⎦",
      "text/latex": "\\begin{equation*}\\left[\\begin{matrix}9 & 2 & 3\\\\4 & 5 & X\\\\7 & 8 & 9\\end{matrix}\\right]\\end{equation*}"
     },
     "metadata": {},
     "execution_count": 22
    },
    {
     "output_type": "execute_result",
     "data": {
      "text/plain": "⎡  110        52     2⋅X + 54 ⎤\n⎢                             ⎥\n⎢7⋅X + 56  8⋅X + 33  14⋅X + 12⎥\n⎢                             ⎥\n⎣  158       126     8⋅X + 102⎦",
      "text/latex": "\\begin{equation*}\\left[\\begin{matrix}110 & 52 & 2 X + 54\\\\7 X + 56 & 8 X + 33 & 14 X + 12\\\\158 & 126 & 8 X + 102\\end{matrix}\\right]\\end{equation*}"
     },
     "metadata": {},
     "execution_count": 22
    },
    {
     "output_type": "execute_result",
     "data": {
      "text/plain": "⎡  110        52     2⋅X + 54 ⎤\n⎢                             ⎥\n⎢7⋅X + 56  8⋅X + 33  14⋅X + 12⎥\n⎢                             ⎥\n⎣  158       126     8⋅X + 102⎦",
      "text/latex": "\\begin{equation*}\\left[\\begin{matrix}110 & 52 & 2 X + 54\\\\7 X + 56 & 8 X + 33 & 14 X + 12\\\\158 & 126 & 8 X + 102\\end{matrix}\\right]\\end{equation*}"
     },
     "metadata": {},
     "execution_count": 22
    },
    {
     "output_type": "execute_result",
     "data": {
      "text/plain": "⎡1  0  0⎤\n⎢       ⎥\n⎢0  1  0⎥\n⎢       ⎥\n⎣0  0  1⎦",
      "text/latex": "\\begin{equation*}\\left[\\begin{matrix}1 & 0 & 0\\\\0 & 1 & 0\\\\0 & 0 & 1\\end{matrix}\\right]\\end{equation*}"
     },
     "metadata": {},
     "execution_count": 22
    },
    {
     "output_type": "execute_result",
     "data": {
      "text/plain": "⎡ 134865 - 23976⋅X        17982          5994⋅X - 44955 ⎤\n⎢─────────────────  ─────────────────  ─────────────────⎥\n⎢971028 - 173826⋅X  971028 - 173826⋅X  971028 - 173826⋅X⎥\n⎢                                                       ⎥\n⎢ 2331⋅X - 11988         19980          3996 - 2997⋅X   ⎥\n⎢────────────────   ────────────────   ──────────────── ⎥\n⎢107892 - 19314⋅X   107892 - 19314⋅X   107892 - 19314⋅X ⎥\n⎢                                                       ⎥\n⎢      -27               -522                333        ⎥\n⎢  ────────────       ────────────       ────────────   ⎥\n⎣  2916 - 522⋅X       2916 - 522⋅X       2916 - 522⋅X   ⎦",
      "text/latex": "\\begin{equation*}\\left[\\begin{matrix}\\frac{134865 - 23976 X}{971028 - 173826 X} & \\frac{17982}{971028 - 173826 X} & \\frac{5994 X - 44955}{971028 - 173826 X}\\\\\\frac{2331 X - 11988}{107892 - 19314 X} & \\frac{19980}{107892 - 19314 X} & \\frac{3996 - 2997 X}{107892 - 19314 X}\\\\- \\frac{27}{2916 - 522 X} & - \\frac{522}{2916 - 522 X} & \\frac{333}{2916 - 522 X}\\end{matrix}\\right]\\end{equation*}"
     },
     "metadata": {},
     "execution_count": 22
    }
   ],
   "source": [
    "m=sym.Matrix([[9,2,3],[4,5,'X'],[7,8,9]])\n",
    "m\n",
    "m*m\n",
    "m@m\n",
    "I=sym.eye(3)\n",
    "I\n",
    "m.inv()"
   ]
  },
  {
   "cell_type": "markdown",
   "metadata": {},
   "source": [
    "**Dictionary**\n",
    "\n",
    "Key:Value pairs"
   ]
  },
  {
   "cell_type": "code",
   "execution_count": 17,
   "metadata": {},
   "outputs": [
    {
     "output_type": "execute_result",
     "data": {
      "text/plain": "{'key': 'value',\n 1: 1,\n 'array': [1, 2, 3, 'something'],\n 'test': 1,\n (1, 3): {'something': 'somethingElse'}}"
     },
     "metadata": {},
     "execution_count": 17
    }
   ],
   "source": [
    "{'key':'value',1:1,'array':[1,2,3,'something'],\"test\":1,(1,3):{'something':\"somethingElse\"}}"
   ]
  },
  {
   "cell_type": "code",
   "execution_count": null,
   "metadata": {},
   "outputs": [],
   "source": []
  }
 ]
}