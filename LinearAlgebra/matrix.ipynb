{
 "metadata": {
  "language_info": {
   "codemirror_mode": {
    "name": "ipython",
    "version": 3
   },
   "file_extension": ".py",
   "mimetype": "text/x-python",
   "name": "python",
   "nbconvert_exporter": "python",
   "pygments_lexer": "ipython3",
   "version": "3.7.6-final"
  },
  "orig_nbformat": 2,
  "kernelspec": {
   "name": "python3",
   "display_name": "Python 3"
  }
 },
 "nbformat": 4,
 "nbformat_minor": 2,
 "cells": [
  {
   "cell_type": "code",
   "execution_count": 60,
   "metadata": {
    "tags": []
   },
   "outputs": [],
   "source": [
    "import array as pArr\n",
    "import numpy as np\n",
    "import sympy as sym\n",
    "import scipy as sc\n",
    "import scipy.linalg as la\n",
    "import matplotlib.pyplot as plt\n",
    "import os\n",
    "import nbformat\n",
    "from nbconvert.preprocessors import ExecutePreprocessor\n",
    "from IPython.core.interactiveshell import InteractiveShell\n",
    "from IPython.display import display, Math, Markdown\n",
    "InteractiveShell.ast_node_interactivity = \"all\"\n",
    "module_path = os.path.abspath(os.path.join('..'))\n",
    "if module_path not in sys.path:\n",
    "    sys.path.append(module_path)\n",
    "from Easy_Pretty_Math.Display_Math_Operations import *\n",
    "init_printing(pretty_print=True)\n",
    "# dmo_auto(status=True)\n",
    "sym.init_printing(use_latex='mathjax', latex_mode='equation*')\n",
    "x, y, z, k, w, m = sym.symbols('x, y, z, k, w, m')\n",
    "def printmd(string):\n",
    "    display(Markdown(string))"
   ]
  },
  {
   "cell_type": "markdown",
   "metadata": {},
   "source": [
    "There are several ways to define linear matrices in python.  Using Sympy, we define a matrix using the Sympy.Matrix class but elsewhere in python (Numpy,SciPy, ex) it is usually better to use np.arrays than matrixes.  Sympy is the primary way to covert code into classical math symbols in python and thus, is used extensively on the pages of this website.  Sypmy.Matrix's are not directly the same thing as Numpy Arrays but they can be converted, one into the other."
   ]
  },
  {
   "cell_type": "markdown",
   "metadata": {},
   "source": [
    "Adding matrices is fairly simple; you just add the corresponding cells together"
   ]
  },
  {
   "cell_type": "markdown",
   "metadata": {},
   "source": [
    "\\begin{equation*}\n",
    "\\left[\n",
    "\\begin{matrix}9 & 2 & 3 & 5 \\\\4 & 5 & 6 & 4 \\\\7 & 8 & 9 & 6 \\\\11 & 13 & 17 & 19 \\end{matrix}\n",
    "\\right]\n",
    "+\n",
    "\\left[\n",
    "\\begin{matrix}9 & 2 & 3 & 5 \\\\4 & 5 & 6 & 4 \\\\7 & 8 & 9 & 6 \\\\11 & 13 & 17 & 19 \\end{matrix}\n",
    "\\right]\n",
    "=\n",
    "\\left[\\begin{matrix}18 & 4 & 6 & 10 \\\\8 & 10 & 12 & 8 \\\\14 & 16 & 18 & 12 \\\\22 & 26 & 34 & 38 \\end{matrix}\\right]\n",
    "\\end{equation*}"
   ]
  },
  {
   "cell_type": "code",
   "execution_count": 84,
   "metadata": {
    "tags": []
   },
   "outputs": [
    {
     "output_type": "execute_result",
     "data": {
      "text/plain": "⎡9   2   3   apples⎤\n⎢                  ⎥\n⎢4   5   6     4   ⎥\n⎢                  ⎥\n⎢7   8   9     6   ⎥\n⎢                  ⎥\n⎣11  13  17    19  ⎦",
      "text/latex": "\\begin{equation*}\\left[\\begin{matrix}9 & 2 & 3 & apples\\\\4 & 5 & 6 & 4\\\\7 & 8 & 9 & 6\\\\11 & 13 & 17 & 19\\end{matrix}\\right]\\end{equation*}"
     },
     "metadata": {},
     "execution_count": 84
    },
    {
     "output_type": "execute_result",
     "data": {
      "text/plain": "⎡18  4   6   2⋅apples⎤\n⎢                    ⎥\n⎢8   10  12     8    ⎥\n⎢                    ⎥\n⎢14  16  18     12   ⎥\n⎢                    ⎥\n⎣22  26  34     38   ⎦",
      "text/latex": "\\begin{equation*}\\left[\\begin{matrix}18 & 4 & 6 & 2 apples\\\\8 & 10 & 12 & 8\\\\14 & 16 & 18 & 12\\\\22 & 26 & 34 & 38\\end{matrix}\\right]\\end{equation*}"
     },
     "metadata": {},
     "execution_count": 84
    }
   ],
   "source": [
    "#Syntax of a Sympy matrix and adding\n",
    "m=sym.Matrix([[9,2,3,' apples'],[4,5,6,4],[7,8,9,6],[11,13,17,19]])\n",
    "m\n",
    "m+m"
   ]
  },
  {
   "cell_type": "markdown",
   "metadata": {},
   "source": [
    "**Adding matrices that are different sizes doesn't work**\n",
    "\\begin{equation*}\n",
    "\\left( \\left[\\begin{matrix}9 & 2 & 3 & apples\\\\4 & 5 & 6 & 4\\\\7 & 8 & 9 & 6\\\\11 & 13 & 17 & 19\\end{matrix}\\right]\\  + \\  \\left[\\begin{matrix}9 & 2 & 3\\\\4 & 5 & 6\\\\7 & 8 & 9\\\\11 & 13 & 17\\end{matrix}\\right]\\right)=Doesn't \\ work\n",
    "\\end{equation*}"
   ]
  },
  {
   "cell_type": "code",
   "execution_count": 87,
   "metadata": {
    "tags": []
   },
   "outputs": [
    {
     "output_type": "execute_result",
     "data": {
      "text/plain": "⎡9   2   3   apples⎤\n⎢                  ⎥\n⎢4   5   6     4   ⎥\n⎢                  ⎥\n⎢7   8   9     6   ⎥\n⎢                  ⎥\n⎣11  13  17    19  ⎦",
      "text/latex": "\\begin{equation*}\\left[\\begin{matrix}9 & 2 & 3 & apples\\\\4 & 5 & 6 & 4\\\\7 & 8 & 9 & 6\\\\11 & 13 & 17 & 19\\end{matrix}\\right]\\end{equation*}"
     },
     "metadata": {},
     "execution_count": 87
    },
    {
     "output_type": "execute_result",
     "data": {
      "text/plain": "⎡9   2   3 ⎤\n⎢          ⎥\n⎢4   5   6 ⎥\n⎢          ⎥\n⎢7   8   9 ⎥\n⎢          ⎥\n⎣11  13  17⎦",
      "text/latex": "\\begin{equation*}\\left[\\begin{matrix}9 & 2 & 3\\\\4 & 5 & 6\\\\7 & 8 & 9\\\\11 & 13 & 17\\end{matrix}\\right]\\end{equation*}"
     },
     "metadata": {},
     "execution_count": 87
    },
    {
     "output_type": "error",
     "ename": "ShapeError",
     "evalue": "Matrix size mismatch: (4, 4) + (4, 3)",
     "traceback": [
      "\u001b[1;31m---------------------------------------------------------------------------\u001b[0m",
      "\u001b[1;31mShapeError\u001b[0m                                Traceback (most recent call last)",
      "\u001b[1;32m<ipython-input-87-fa5a5819688c>\u001b[0m in \u001b[0;36m<module>\u001b[1;34m\u001b[0m\n\u001b[0;32m      3\u001b[0m \u001b[0mm\u001b[0m\u001b[1;33m\u001b[0m\u001b[1;33m\u001b[0m\u001b[0m\n\u001b[0;32m      4\u001b[0m \u001b[0mn\u001b[0m\u001b[1;33m\u001b[0m\u001b[1;33m\u001b[0m\u001b[0m\n\u001b[1;32m----> 5\u001b[1;33m \u001b[0mm\u001b[0m\u001b[1;33m+\u001b[0m\u001b[0mn\u001b[0m\u001b[1;33m\u001b[0m\u001b[1;33m\u001b[0m\u001b[0m\n\u001b[0m",
      "\u001b[1;32mE:\\anaconda\\lib\\site-packages\\sympy\\core\\decorators.py\u001b[0m in \u001b[0;36mbinary_op_wrapper\u001b[1;34m(self, other)\u001b[0m\n\u001b[0;32m    127\u001b[0m                     \u001b[1;32mif\u001b[0m \u001b[0mf\u001b[0m \u001b[1;32mis\u001b[0m \u001b[1;32mnot\u001b[0m \u001b[1;32mNone\u001b[0m\u001b[1;33m:\u001b[0m\u001b[1;33m\u001b[0m\u001b[1;33m\u001b[0m\u001b[0m\n\u001b[0;32m    128\u001b[0m                         \u001b[1;32mreturn\u001b[0m \u001b[0mf\u001b[0m\u001b[1;33m(\u001b[0m\u001b[0mself\u001b[0m\u001b[1;33m)\u001b[0m\u001b[1;33m\u001b[0m\u001b[1;33m\u001b[0m\u001b[0m\n\u001b[1;32m--> 129\u001b[1;33m             \u001b[1;32mreturn\u001b[0m \u001b[0mfunc\u001b[0m\u001b[1;33m(\u001b[0m\u001b[0mself\u001b[0m\u001b[1;33m,\u001b[0m \u001b[0mother\u001b[0m\u001b[1;33m)\u001b[0m\u001b[1;33m\u001b[0m\u001b[1;33m\u001b[0m\u001b[0m\n\u001b[0m\u001b[0;32m    130\u001b[0m         \u001b[1;32mreturn\u001b[0m \u001b[0mbinary_op_wrapper\u001b[0m\u001b[1;33m\u001b[0m\u001b[1;33m\u001b[0m\u001b[0m\n\u001b[0;32m    131\u001b[0m     \u001b[1;32mreturn\u001b[0m \u001b[0mpriority_decorator\u001b[0m\u001b[1;33m\u001b[0m\u001b[1;33m\u001b[0m\u001b[0m\n",
      "\u001b[1;32mE:\\anaconda\\lib\\site-packages\\sympy\\matrices\\common.py\u001b[0m in \u001b[0;36m__add__\u001b[1;34m(self, other)\u001b[0m\n\u001b[0;32m   2135\u001b[0m             \u001b[1;32mif\u001b[0m \u001b[0mself\u001b[0m\u001b[1;33m.\u001b[0m\u001b[0mshape\u001b[0m \u001b[1;33m!=\u001b[0m \u001b[0mother\u001b[0m\u001b[1;33m.\u001b[0m\u001b[0mshape\u001b[0m\u001b[1;33m:\u001b[0m\u001b[1;33m\u001b[0m\u001b[1;33m\u001b[0m\u001b[0m\n\u001b[0;32m   2136\u001b[0m                 raise ShapeError(\"Matrix size mismatch: %s + %s\" % (\n\u001b[1;32m-> 2137\u001b[1;33m                     self.shape, other.shape))\n\u001b[0m\u001b[0;32m   2138\u001b[0m \u001b[1;33m\u001b[0m\u001b[0m\n\u001b[0;32m   2139\u001b[0m         \u001b[1;31m# honest sympy matrices defer to their class's routine\u001b[0m\u001b[1;33m\u001b[0m\u001b[1;33m\u001b[0m\u001b[1;33m\u001b[0m\u001b[0m\n",
      "\u001b[1;31mShapeError\u001b[0m: Matrix size mismatch: (4, 4) + (4, 3)"
     ]
    }
   ],
   "source": [
    "m=sym.Matrix([[9,2,3,' apples'],[4,5,6,4],[7,8,9,6],[11,13,17,19]])\n",
    "n=sym.Matrix([[9,2,3],[4,5,6],[7,8,9],[11,13,17]])\n",
    "m\n",
    "n\n",
    "m+n"
   ]
  },
  {
   "cell_type": "code",
   "execution_count": null,
   "metadata": {},
   "outputs": [],
   "source": []
  }
 ]
}