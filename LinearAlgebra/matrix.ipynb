{
 "metadata": {
  "language_info": {
   "codemirror_mode": {
    "name": "ipython",
    "version": 3
   },
   "file_extension": ".py",
   "mimetype": "text/x-python",
   "name": "python",
   "nbconvert_exporter": "python",
   "pygments_lexer": "ipython3",
   "version": "3.7.6-final"
  },
  "orig_nbformat": 2,
  "kernelspec": {
   "name": "python3",
   "display_name": "Python 3"
  }
 },
 "nbformat": 4,
 "nbformat_minor": 2,
 "cells": [
  {
   "cell_type": "code",
   "execution_count": 60,
   "metadata": {
    "tags": []
   },
   "outputs": [],
   "source": [
    "import array as pArr\n",
    "import numpy as np\n",
    "import sympy as sym\n",
    "import scipy as sc\n",
    "import scipy.linalg as la\n",
    "import matplotlib.pyplot as plt\n",
    "import os\n",
    "import nbformat\n",
    "from nbconvert.preprocessors import ExecutePreprocessor\n",
    "from IPython.core.interactiveshell import InteractiveShell\n",
    "from IPython.display import display, Math, Markdown\n",
    "InteractiveShell.ast_node_interactivity = \"all\"\n",
    "module_path = os.path.abspath(os.path.join('..'))\n",
    "if module_path not in sys.path:\n",
    "    sys.path.append(module_path)\n",
    "from Easy_Pretty_Math.Display_Math_Operations import *\n",
    "init_printing(pretty_print=True)\n",
    "# dmo_auto(status=True)\n",
    "sym.init_printing(use_latex='mathjax', latex_mode='equation*')\n",
    "x, y, z, k, w, m = sym.symbols('x, y, z, k, w, m')\n",
    "def printmd(string):\n",
    "    display(Markdown(string))"
   ]
  },
  {
   "cell_type": "markdown",
   "metadata": {},
   "source": [
    "There are several ways to define linear matrices in python.  Using Sympy, we define a matrix using the Sympy.Matrix class but elsewhere in python (Numpy,SciPy, ex) it is usually better to use np.arrays than matrixes.  Sympy is the primary way to covert code into classical math symbols in python and thus, is used extensively on the pages of this website.  Sypmy.Matrix's are not directly the same thing as Numpy Arrays but they can be converted, one into the other."
   ]
  },
  {
   "cell_type": "markdown",
   "metadata": {},
   "source": [
    "**Adding matrices is fairly simple; you just add the corresponding entries (or 'cells') together**"
   ]
  },
  {
   "cell_type": "markdown",
   "metadata": {},
   "source": [
    "\\begin{equation*}\n",
    "\\left[\n",
    "\\begin{matrix}9 & 2 & 3 & 5 \\\\4 & 5 & 6 & 4 \\\\7 & 8 & 9 & 6 \\\\11 & 13 & 17 & 19 \\end{matrix}\n",
    "\\right]\n",
    "+\n",
    "\\left[\n",
    "\\begin{matrix}9 & 2 & 3 & 5 \\\\4 & 5 & 6 & 4 \\\\7 & 8 & 9 & 6 \\\\11 & 13 & 17 & 19 \\end{matrix}\n",
    "\\right]\n",
    "=\n",
    "\\left[\\begin{matrix}18 & 4 & 6 & 10 \\\\8 & 10 & 12 & 8 \\\\14 & 16 & 18 & 12 \\\\22 & 26 & 34 & 38 \\end{matrix}\\right]\n",
    "\\end{equation*}"
   ]
  },
  {
   "cell_type": "code",
   "execution_count": 84,
   "metadata": {
    "tags": []
   },
   "outputs": [
    {
     "output_type": "execute_result",
     "data": {
      "text/plain": "⎡9   2   3   apples⎤\n⎢                  ⎥\n⎢4   5   6     4   ⎥\n⎢                  ⎥\n⎢7   8   9     6   ⎥\n⎢                  ⎥\n⎣11  13  17    19  ⎦",
      "text/latex": "\\begin{equation*}\\left[\\begin{matrix}9 & 2 & 3 & apples\\\\4 & 5 & 6 & 4\\\\7 & 8 & 9 & 6\\\\11 & 13 & 17 & 19\\end{matrix}\\right]\\end{equation*}"
     },
     "metadata": {},
     "execution_count": 84
    },
    {
     "output_type": "execute_result",
     "data": {
      "text/plain": "⎡18  4   6   2⋅apples⎤\n⎢                    ⎥\n⎢8   10  12     8    ⎥\n⎢                    ⎥\n⎢14  16  18     12   ⎥\n⎢                    ⎥\n⎣22  26  34     38   ⎦",
      "text/latex": "\\begin{equation*}\\left[\\begin{matrix}18 & 4 & 6 & 2 apples\\\\8 & 10 & 12 & 8\\\\14 & 16 & 18 & 12\\\\22 & 26 & 34 & 38\\end{matrix}\\right]\\end{equation*}"
     },
     "metadata": {},
     "execution_count": 84
    }
   ],
   "source": [
    "#Syntax of a Sympy matrix and adding\n",
    "m=sym.Matrix([[9,2,3,' apples'],[4,5,6,4],[7,8,9,6],[11,13,17,19]])\n",
    "m\n",
    "m+m"
   ]
  },
  {
   "cell_type": "markdown",
   "metadata": {},
   "source": [
    "**Adding matrices that are different sizes doesn't work**\n",
    "\\begin{equation*}\n",
    "\\left( \\left[\\begin{matrix}9 & 2 & 3 & apples\\\\4 & 5 & 6 & 4\\\\7 & 8 & 9 & 6\\\\11 & 13 & 17 & 19\\end{matrix}\\right]\\  + \\  \\left[\\begin{matrix}9 & 2 & 3\\\\4 & 5 & 6\\\\7 & 8 & 9\\\\11 & 13 & 17\\end{matrix}\\right]\\right)=Doesn't \\ work\n",
    "\\end{equation*}"
   ]
  },
  {
   "cell_type": "code",
   "execution_count": 87,
   "metadata": {
    "tags": []
   },
   "outputs": [
    {
     "output_type": "execute_result",
     "data": {
      "text/plain": "⎡9   2   3   apples⎤\n⎢                  ⎥\n⎢4   5   6     4   ⎥\n⎢                  ⎥\n⎢7   8   9     6   ⎥\n⎢                  ⎥\n⎣11  13  17    19  ⎦",
      "text/latex": "\\begin{equation*}\\left[\\begin{matrix}9 & 2 & 3 & apples\\\\4 & 5 & 6 & 4\\\\7 & 8 & 9 & 6\\\\11 & 13 & 17 & 19\\end{matrix}\\right]\\end{equation*}"
     },
     "metadata": {},
     "execution_count": 87
    },
    {
     "output_type": "execute_result",
     "data": {
      "text/plain": "⎡9   2   3 ⎤\n⎢          ⎥\n⎢4   5   6 ⎥\n⎢          ⎥\n⎢7   8   9 ⎥\n⎢          ⎥\n⎣11  13  17⎦",
      "text/latex": "\\begin{equation*}\\left[\\begin{matrix}9 & 2 & 3\\\\4 & 5 & 6\\\\7 & 8 & 9\\\\11 & 13 & 17\\end{matrix}\\right]\\end{equation*}"
     },
     "metadata": {},
     "execution_count": 87
    },
    {
     "output_type": "error",
     "ename": "ShapeError",
     "evalue": "Matrix size mismatch: (4, 4) + (4, 3)",
     "traceback": [
      "\u001b[1;31m---------------------------------------------------------------------------\u001b[0m",
      "\u001b[1;31mShapeError\u001b[0m                                Traceback (most recent call last)",
      "\u001b[1;32m<ipython-input-87-fa5a5819688c>\u001b[0m in \u001b[0;36m<module>\u001b[1;34m\u001b[0m\n\u001b[0;32m      3\u001b[0m \u001b[0mm\u001b[0m\u001b[1;33m\u001b[0m\u001b[1;33m\u001b[0m\u001b[0m\n\u001b[0;32m      4\u001b[0m \u001b[0mn\u001b[0m\u001b[1;33m\u001b[0m\u001b[1;33m\u001b[0m\u001b[0m\n\u001b[1;32m----> 5\u001b[1;33m \u001b[0mm\u001b[0m\u001b[1;33m+\u001b[0m\u001b[0mn\u001b[0m\u001b[1;33m\u001b[0m\u001b[1;33m\u001b[0m\u001b[0m\n\u001b[0m",
      "\u001b[1;32mE:\\anaconda\\lib\\site-packages\\sympy\\core\\decorators.py\u001b[0m in \u001b[0;36mbinary_op_wrapper\u001b[1;34m(self, other)\u001b[0m\n\u001b[0;32m    127\u001b[0m                     \u001b[1;32mif\u001b[0m \u001b[0mf\u001b[0m \u001b[1;32mis\u001b[0m \u001b[1;32mnot\u001b[0m \u001b[1;32mNone\u001b[0m\u001b[1;33m:\u001b[0m\u001b[1;33m\u001b[0m\u001b[1;33m\u001b[0m\u001b[0m\n\u001b[0;32m    128\u001b[0m                         \u001b[1;32mreturn\u001b[0m \u001b[0mf\u001b[0m\u001b[1;33m(\u001b[0m\u001b[0mself\u001b[0m\u001b[1;33m)\u001b[0m\u001b[1;33m\u001b[0m\u001b[1;33m\u001b[0m\u001b[0m\n\u001b[1;32m--> 129\u001b[1;33m             \u001b[1;32mreturn\u001b[0m \u001b[0mfunc\u001b[0m\u001b[1;33m(\u001b[0m\u001b[0mself\u001b[0m\u001b[1;33m,\u001b[0m \u001b[0mother\u001b[0m\u001b[1;33m)\u001b[0m\u001b[1;33m\u001b[0m\u001b[1;33m\u001b[0m\u001b[0m\n\u001b[0m\u001b[0;32m    130\u001b[0m         \u001b[1;32mreturn\u001b[0m \u001b[0mbinary_op_wrapper\u001b[0m\u001b[1;33m\u001b[0m\u001b[1;33m\u001b[0m\u001b[0m\n\u001b[0;32m    131\u001b[0m     \u001b[1;32mreturn\u001b[0m \u001b[0mpriority_decorator\u001b[0m\u001b[1;33m\u001b[0m\u001b[1;33m\u001b[0m\u001b[0m\n",
      "\u001b[1;32mE:\\anaconda\\lib\\site-packages\\sympy\\matrices\\common.py\u001b[0m in \u001b[0;36m__add__\u001b[1;34m(self, other)\u001b[0m\n\u001b[0;32m   2135\u001b[0m             \u001b[1;32mif\u001b[0m \u001b[0mself\u001b[0m\u001b[1;33m.\u001b[0m\u001b[0mshape\u001b[0m \u001b[1;33m!=\u001b[0m \u001b[0mother\u001b[0m\u001b[1;33m.\u001b[0m\u001b[0mshape\u001b[0m\u001b[1;33m:\u001b[0m\u001b[1;33m\u001b[0m\u001b[1;33m\u001b[0m\u001b[0m\n\u001b[0;32m   2136\u001b[0m                 raise ShapeError(\"Matrix size mismatch: %s + %s\" % (\n\u001b[1;32m-> 2137\u001b[1;33m                     self.shape, other.shape))\n\u001b[0m\u001b[0;32m   2138\u001b[0m \u001b[1;33m\u001b[0m\u001b[0m\n\u001b[0;32m   2139\u001b[0m         \u001b[1;31m# honest sympy matrices defer to their class's routine\u001b[0m\u001b[1;33m\u001b[0m\u001b[1;33m\u001b[0m\u001b[1;33m\u001b[0m\u001b[0m\n",
      "\u001b[1;31mShapeError\u001b[0m: Matrix size mismatch: (4, 4) + (4, 3)"
     ]
    }
   ],
   "source": [
    "m=sym.Matrix([[9,2,3,' apples'],[4,5,6,4],[7,8,9,6],[11,13,17,19]])\n",
    "n=sym.Matrix([[9,2,3],[4,5,6],[7,8,9],[11,13,17]])\n",
    "m\n",
    "n\n",
    "m+n"
   ]
  },
  {
   "cell_type": "markdown",
   "metadata": {},
   "source": [
    "** Multiplying matrices is a little more involved **\n",
    "\n",
    "*In sympy matrices, \\* and @ are the same thing*"
   ]
  },
  {
   "cell_type": "markdown",
   "metadata": {},
   "source": [
    "To multiply two or more matrces\n",
    "\\begin{equation*}\n",
    "\\left( \\left[\\begin{matrix}9 & 2 & 3 & 5\\\\4 & 5 & 6 & 4\\\\7 & 8 & 9 & 6\\\\11 & 13 & 17 & 19\\end{matrix}\\right]@ \\  \\left[\\begin{matrix}9 & 34 & -9\\\\-5 & 0.01 & 50\\\\8 & 1.25 & 8\\\\15 & 17 & -7\\end{matrix}\\right]\\right)=\n",
    "\\left[\\begin{matrix}170 & 394.77 & 8\\\\119 & 211.55 & 234\\\\185 & 351.33 & 367\\\\455 & 718.38 & 554\\end{matrix}\\right]\n",
    "\\end{equation*}\n",
    "\\begin{equation*}\n",
    "\\left( \\left( \\left[\\begin{matrix}9\\\\4\\\\7\\\\11\\end{matrix}\\right]@ \\  \\left[\\begin{matrix}9 & 34 & -9\\end{matrix}\\right]\\right)+ \\  \\left( \\left[\\begin{matrix}2\\\\5\\\\8\\\\13\\end{matrix}\\right], \\  \\left[\\begin{matrix}-5 & 0.01 & 50\\end{matrix}\\right]\\right), \\  \\left( \\left[\\begin{matrix}3\\\\6\\\\9\\\\17\\end{matrix}\\right], \\  \\left[\\begin{matrix}8 & 1.25 & 8\\end{matrix}\\right]\\right), \\  \\left( \\left[\\begin{matrix}5\\\\4\\\\6\\\\19\\end{matrix}\\right], \\  \\left[\\begin{matrix}15 & 17 & -7\\end{matrix}\\right]\\right)\\right)\n",
    "\\end{equation*}"
   ]
  },
  {
   "cell_type": "code",
   "execution_count": 203,
   "metadata": {
    "tags": []
   },
   "outputs": [
    {
     "output_type": "execute_result",
     "data": {
      "text/plain": "⎛⎡3 ⎤              ⎞\n⎜⎢  ⎥              ⎟\n⎜⎢6 ⎥              ⎟\n⎜⎢  ⎥, [8  1.25  8]⎟\n⎜⎢9 ⎥              ⎟\n⎜⎢  ⎥              ⎟\n⎝⎣17⎦              ⎠",
      "text/latex": "\\begin{equation*}\\left( \\left[\\begin{matrix}3\\\\6\\\\9\\\\17\\end{matrix}\\right], \\  \\left[\\begin{matrix}8 & 1.25 & 8\\end{matrix}\\right]\\right)\\end{equation*}"
     },
     "metadata": {},
     "execution_count": 203
    },
    {
     "output_type": "execute_result",
     "data": {
      "text/plain": "⎡170  394.77   8 ⎤\n⎢                ⎥\n⎢119  211.55  234⎥\n⎢                ⎥\n⎢185  351.33  367⎥\n⎢                ⎥\n⎣455  718.38  554⎦",
      "text/latex": "\\begin{equation*}\\left[\\begin{matrix}170 & 394.77 & 8\\\\119 & 211.55 & 234\\\\185 & 351.33 & 367\\\\455 & 718.38 & 554\\end{matrix}\\right]\\end{equation*}"
     },
     "metadata": {},
     "execution_count": 203
    },
    {
     "output_type": "execute_result",
     "data": {
      "text/plain": "⎛⎡9   2   3   5 ⎤  ⎡9    34   -9⎤⎞\n⎜⎢              ⎥  ⎢            ⎥⎟\n⎜⎢4   5   6   4 ⎥  ⎢-5  0.01  50⎥⎟\n⎜⎢              ⎥, ⎢            ⎥⎟\n⎜⎢7   8   9   6 ⎥  ⎢8   1.25  8 ⎥⎟\n⎜⎢              ⎥  ⎢            ⎥⎟\n⎝⎣11  13  17  19⎦  ⎣15   17   -7⎦⎠",
      "text/latex": "\\begin{equation*}\\left( \\left[\\begin{matrix}9 & 2 & 3 & 5\\\\4 & 5 & 6 & 4\\\\7 & 8 & 9 & 6\\\\11 & 13 & 17 & 19\\end{matrix}\\right], \\  \\left[\\begin{matrix}9 & 34 & -9\\\\-5 & 0.01 & 50\\\\8 & 1.25 & 8\\\\15 & 17 & -7\\end{matrix}\\right]\\right)\\end{equation*}"
     },
     "metadata": {},
     "execution_count": 203
    },
    {
     "output_type": "execute_result",
     "data": {
      "text/plain": "⎡170⎤\n⎢   ⎥\n⎢119⎥\n⎢   ⎥\n⎢185⎥\n⎢   ⎥\n⎣455⎦",
      "text/latex": "\\begin{equation*}\\left[\\begin{matrix}170\\\\119\\\\185\\\\455\\end{matrix}\\right]\\end{equation*}"
     },
     "metadata": {},
     "execution_count": 203
    },
    {
     "output_type": "execute_result",
     "data": {
      "text/plain": "⎡170  394.77   8 ⎤\n⎢                ⎥\n⎢119  211.55  234⎥\n⎢                ⎥\n⎢185  351.33  367⎥\n⎢                ⎥\n⎣455  718.38  554⎦",
      "text/latex": "\\begin{equation*}\\left[\\begin{matrix}170 & 394.77 & 8\\\\119 & 211.55 & 234\\\\185 & 351.33 & 367\\\\455 & 718.38 & 554\\end{matrix}\\right]\\end{equation*}"
     },
     "metadata": {},
     "execution_count": 203
    },
    {
     "output_type": "stream",
     "name": "stdout",
     "text": "\\left[\\begin{matrix}170 & 394.77 & 8\\\\119 & 211.55 & 234\\\\185 & 351.33 & 367\\\\455 & 718.38 & 554\\end{matrix}\\right]\n"
    }
   ],
   "source": [
    "m=sym.Matrix([[9,2,3,5],[4,5,6,4],[7,8,9,6],[11,13,17,19]])\n",
    "n=sym.Matrix([[9,34,-9],[-5,.01,50],[8,1.25,8],[15,17,-7]])\n",
    "o=sym.Matrix([[9],[-5],[8],[15]])\n",
    "p=sym.Matrix([9])\n",
    "#In sympy matrices, * and @ are the same thing\n",
    "\n",
    "m[0:4,2:3],n[2:3,0:4]\n",
    "(m[0:4,0:1]@n[0:1,0:4])+(m[0:4,1:2]@n[1:2,0:4])+(m[0:4,2:3]@n[2:3,0:4])+(m[0:4,3:4]@n[3:4,0:4])\n",
    "m,n\n",
    "m@o\n",
    "m@n\n",
    "# print_latex((m,n))\n",
    "# print_latex((m[0:4,0:1],n[0:4,0:1]))\n",
    "# print_latex(((m[0:4,0:1],n[0:1,0:4]),(m[0:4,1:2],n[1:2,0:4]),(m[0:4,2:3],n[2:3,0:4]),(m[0:4,3:4],n[3:4,0:4])))\n",
    "print_latex((m@n))"
   ]
  },
  {
   "cell_type": "markdown",
   "metadata": {},
   "source": [
    "*But in numpy arrays, this is not the case*"
   ]
  },
  {
   "cell_type": "code",
   "execution_count": 170,
   "metadata": {
    "tags": []
   },
   "outputs": [
    {
     "output_type": "execute_result",
     "data": {
      "text/plain": "'m,n,o'"
     },
     "metadata": {},
     "execution_count": 170
    },
    {
     "output_type": "execute_result",
     "data": {
      "text/plain": "(array([[ 9,  2,  3,  5],\n        [ 4,  5,  6,  4],\n        [ 7,  8,  9,  6],\n        [11, 13, 17, 19]]),\n array([[ 9.00e+00,  3.40e+01, -9.00e+00],\n        [-5.00e+00,  1.00e-02,  5.00e+01],\n        [ 8.00e+00,  1.25e+00,  8.00e+00],\n        [ 1.50e+01,  1.70e+01, -7.00e+00]]),\n array([[ 9],\n        [-5],\n        [ 8],\n        [15]]))"
     },
     "metadata": {},
     "execution_count": 170
    },
    {
     "output_type": "execute_result",
     "data": {
      "text/plain": "'m@o'"
     },
     "metadata": {},
     "execution_count": 170
    },
    {
     "output_type": "execute_result",
     "data": {
      "text/plain": "array([[170],\n       [119],\n       [185],\n       [455]])"
     },
     "metadata": {},
     "execution_count": 170
    },
    {
     "output_type": "execute_result",
     "data": {
      "text/plain": "'m@n'"
     },
     "metadata": {},
     "execution_count": 170
    },
    {
     "output_type": "error",
     "ename": "ShapeError",
     "evalue": "Matrix size mismatch.",
     "traceback": [
      "\u001b[1;31m---------------------------------------------------------------------------\u001b[0m",
      "\u001b[1;31mShapeError\u001b[0m                                Traceback (most recent call last)",
      "\u001b[1;32m<ipython-input-170-32cb38d0154c>\u001b[0m in \u001b[0;36m<module>\u001b[1;34m\u001b[0m\n\u001b[0;32m      8\u001b[0m \u001b[0mm\u001b[0m\u001b[1;33m@\u001b[0m\u001b[0mo\u001b[0m\u001b[1;33m\u001b[0m\u001b[1;33m\u001b[0m\u001b[0m\n\u001b[0;32m      9\u001b[0m \u001b[1;34m'm@n'\u001b[0m\u001b[1;33m\u001b[0m\u001b[1;33m\u001b[0m\u001b[0m\n\u001b[1;32m---> 10\u001b[1;33m \u001b[0mm\u001b[0m\u001b[1;33m@\u001b[0m\u001b[0mn\u001b[0m\u001b[1;33m@\u001b[0m\u001b[0mp\u001b[0m\u001b[1;33m\u001b[0m\u001b[1;33m\u001b[0m\u001b[0m\n\u001b[0m\u001b[0;32m     11\u001b[0m \u001b[1;34m'm*o'\u001b[0m\u001b[1;33m\u001b[0m\u001b[1;33m\u001b[0m\u001b[0m\n\u001b[0;32m     12\u001b[0m \u001b[0mm\u001b[0m\u001b[1;33m*\u001b[0m\u001b[0mo\u001b[0m\u001b[1;33m\u001b[0m\u001b[1;33m\u001b[0m\u001b[0m\n",
      "\u001b[1;32mE:\\anaconda\\lib\\site-packages\\sympy\\core\\decorators.py\u001b[0m in \u001b[0;36mbinary_op_wrapper\u001b[1;34m(self, other)\u001b[0m\n\u001b[0;32m    127\u001b[0m                     \u001b[1;32mif\u001b[0m \u001b[0mf\u001b[0m \u001b[1;32mis\u001b[0m \u001b[1;32mnot\u001b[0m \u001b[1;32mNone\u001b[0m\u001b[1;33m:\u001b[0m\u001b[1;33m\u001b[0m\u001b[1;33m\u001b[0m\u001b[0m\n\u001b[0;32m    128\u001b[0m                         \u001b[1;32mreturn\u001b[0m \u001b[0mf\u001b[0m\u001b[1;33m(\u001b[0m\u001b[0mself\u001b[0m\u001b[1;33m)\u001b[0m\u001b[1;33m\u001b[0m\u001b[1;33m\u001b[0m\u001b[0m\n\u001b[1;32m--> 129\u001b[1;33m             \u001b[1;32mreturn\u001b[0m \u001b[0mfunc\u001b[0m\u001b[1;33m(\u001b[0m\u001b[0mself\u001b[0m\u001b[1;33m,\u001b[0m \u001b[0mother\u001b[0m\u001b[1;33m)\u001b[0m\u001b[1;33m\u001b[0m\u001b[1;33m\u001b[0m\u001b[0m\n\u001b[0m\u001b[0;32m    130\u001b[0m         \u001b[1;32mreturn\u001b[0m \u001b[0mbinary_op_wrapper\u001b[0m\u001b[1;33m\u001b[0m\u001b[1;33m\u001b[0m\u001b[0m\n\u001b[0;32m    131\u001b[0m     \u001b[1;32mreturn\u001b[0m \u001b[0mpriority_decorator\u001b[0m\u001b[1;33m\u001b[0m\u001b[1;33m\u001b[0m\u001b[0m\n",
      "\u001b[1;32mE:\\anaconda\\lib\\site-packages\\sympy\\matrices\\common.py\u001b[0m in \u001b[0;36m__rmatmul__\u001b[1;34m(self, other)\u001b[0m\n\u001b[0;32m   2277\u001b[0m             \u001b[1;32mreturn\u001b[0m \u001b[0mNotImplemented\u001b[0m\u001b[1;33m\u001b[0m\u001b[1;33m\u001b[0m\u001b[0m\n\u001b[0;32m   2278\u001b[0m \u001b[1;33m\u001b[0m\u001b[0m\n\u001b[1;32m-> 2279\u001b[1;33m         \u001b[1;32mreturn\u001b[0m \u001b[0mself\u001b[0m\u001b[1;33m.\u001b[0m\u001b[0m__rmul__\u001b[0m\u001b[1;33m(\u001b[0m\u001b[0mother\u001b[0m\u001b[1;33m)\u001b[0m\u001b[1;33m\u001b[0m\u001b[1;33m\u001b[0m\u001b[0m\n\u001b[0m\u001b[0;32m   2280\u001b[0m \u001b[1;33m\u001b[0m\u001b[0m\n\u001b[0;32m   2281\u001b[0m     \u001b[1;33m@\u001b[0m\u001b[0mcall_highest_priority\u001b[0m\u001b[1;33m(\u001b[0m\u001b[1;34m'__mul__'\u001b[0m\u001b[1;33m)\u001b[0m\u001b[1;33m\u001b[0m\u001b[1;33m\u001b[0m\u001b[0m\n",
      "\u001b[1;32mE:\\anaconda\\lib\\site-packages\\sympy\\core\\decorators.py\u001b[0m in \u001b[0;36mbinary_op_wrapper\u001b[1;34m(self, other)\u001b[0m\n\u001b[0;32m    127\u001b[0m                     \u001b[1;32mif\u001b[0m \u001b[0mf\u001b[0m \u001b[1;32mis\u001b[0m \u001b[1;32mnot\u001b[0m \u001b[1;32mNone\u001b[0m\u001b[1;33m:\u001b[0m\u001b[1;33m\u001b[0m\u001b[1;33m\u001b[0m\u001b[0m\n\u001b[0;32m    128\u001b[0m                         \u001b[1;32mreturn\u001b[0m \u001b[0mf\u001b[0m\u001b[1;33m(\u001b[0m\u001b[0mself\u001b[0m\u001b[1;33m)\u001b[0m\u001b[1;33m\u001b[0m\u001b[1;33m\u001b[0m\u001b[0m\n\u001b[1;32m--> 129\u001b[1;33m             \u001b[1;32mreturn\u001b[0m \u001b[0mfunc\u001b[0m\u001b[1;33m(\u001b[0m\u001b[0mself\u001b[0m\u001b[1;33m,\u001b[0m \u001b[0mother\u001b[0m\u001b[1;33m)\u001b[0m\u001b[1;33m\u001b[0m\u001b[1;33m\u001b[0m\u001b[0m\n\u001b[0m\u001b[0;32m    130\u001b[0m         \u001b[1;32mreturn\u001b[0m \u001b[0mbinary_op_wrapper\u001b[0m\u001b[1;33m\u001b[0m\u001b[1;33m\u001b[0m\u001b[0m\n\u001b[0;32m    131\u001b[0m     \u001b[1;32mreturn\u001b[0m \u001b[0mpriority_decorator\u001b[0m\u001b[1;33m\u001b[0m\u001b[1;33m\u001b[0m\u001b[0m\n",
      "\u001b[1;32mE:\\anaconda\\lib\\site-packages\\sympy\\matrices\\common.py\u001b[0m in \u001b[0;36m__rmul__\u001b[1;34m(self, other)\u001b[0m\n\u001b[0;32m   2286\u001b[0m         \u001b[1;32mif\u001b[0m \u001b[0mhasattr\u001b[0m\u001b[1;33m(\u001b[0m\u001b[0mother\u001b[0m\u001b[1;33m,\u001b[0m \u001b[1;34m'shape'\u001b[0m\u001b[1;33m)\u001b[0m \u001b[1;32mand\u001b[0m \u001b[0mlen\u001b[0m\u001b[1;33m(\u001b[0m\u001b[0mother\u001b[0m\u001b[1;33m.\u001b[0m\u001b[0mshape\u001b[0m\u001b[1;33m)\u001b[0m \u001b[1;33m==\u001b[0m \u001b[1;36m2\u001b[0m\u001b[1;33m:\u001b[0m\u001b[1;33m\u001b[0m\u001b[1;33m\u001b[0m\u001b[0m\n\u001b[0;32m   2287\u001b[0m             \u001b[1;32mif\u001b[0m \u001b[0mself\u001b[0m\u001b[1;33m.\u001b[0m\u001b[0mshape\u001b[0m\u001b[1;33m[\u001b[0m\u001b[1;36m0\u001b[0m\u001b[1;33m]\u001b[0m \u001b[1;33m!=\u001b[0m \u001b[0mother\u001b[0m\u001b[1;33m.\u001b[0m\u001b[0mshape\u001b[0m\u001b[1;33m[\u001b[0m\u001b[1;36m1\u001b[0m\u001b[1;33m]\u001b[0m\u001b[1;33m:\u001b[0m\u001b[1;33m\u001b[0m\u001b[1;33m\u001b[0m\u001b[0m\n\u001b[1;32m-> 2288\u001b[1;33m                 \u001b[1;32mraise\u001b[0m \u001b[0mShapeError\u001b[0m\u001b[1;33m(\u001b[0m\u001b[1;34m\"Matrix size mismatch.\"\u001b[0m\u001b[1;33m)\u001b[0m\u001b[1;33m\u001b[0m\u001b[1;33m\u001b[0m\u001b[0m\n\u001b[0m\u001b[0;32m   2289\u001b[0m \u001b[1;33m\u001b[0m\u001b[0m\n\u001b[0;32m   2290\u001b[0m         \u001b[1;31m# honest sympy matrices defer to their class's routine\u001b[0m\u001b[1;33m\u001b[0m\u001b[1;33m\u001b[0m\u001b[1;33m\u001b[0m\u001b[0m\n",
      "\u001b[1;31mShapeError\u001b[0m: Matrix size mismatch."
     ]
    }
   ],
   "source": [
    "#But in numpy arrays, this is not the case:\n",
    "m=np.array([[9,2,3,5],[4,5,6,4],[7,8,9,6],[11,13,17,19]])\n",
    "n=np.array([[9,34,-9],[-5,.01,50],[8,1.25,8],[15,17,-7]])\n",
    "o=np.array([[9],[-5],[8],[15]])\n",
    "'m,n,o'\n",
    "m,n,o\n",
    "'m@o'\n",
    "m@o\n",
    "'m@n'\n",
    "m@n\n",
    "'m*o'\n",
    "m*o\n",
    "'m*n'\n",
    "m*n"
   ]
  },
  {
   "cell_type": "code",
   "execution_count": null,
   "metadata": {},
   "outputs": [],
   "source": []
  }
 ]
}