{
 "metadata": {
  "language_info": {
   "codemirror_mode": {
    "name": "ipython",
    "version": 3
   },
   "file_extension": ".py",
   "mimetype": "text/x-python",
   "name": "python",
   "nbconvert_exporter": "python",
   "pygments_lexer": "ipython3",
   "version": "3.7.6-final"
  },
  "orig_nbformat": 2,
  "kernelspec": {
   "name": "python3",
   "display_name": "Python 3"
  }
 },
 "nbformat": 4,
 "nbformat_minor": 2,
 "cells": [
  {
   "cell_type": "code",
   "execution_count": 60,
   "metadata": {
    "tags": []
   },
   "outputs": [],
   "source": [
    "import array as pArr\n",
    "import numpy as np\n",
    "import sympy as sym\n",
    "import scipy as sc\n",
    "import scipy.linalg as la\n",
    "import matplotlib.pyplot as plt\n",
    "import os\n",
    "import nbformat\n",
    "from nbconvert.preprocessors import ExecutePreprocessor\n",
    "from IPython.core.interactiveshell import InteractiveShell\n",
    "from IPython.display import display, Math, Markdown\n",
    "InteractiveShell.ast_node_interactivity = \"all\"\n",
    "module_path = os.path.abspath(os.path.join('..'))\n",
    "if module_path not in sys.path:\n",
    "    sys.path.append(module_path)\n",
    "from Easy_Pretty_Math.Display_Math_Operations import *\n",
    "init_printing(pretty_print=True)\n",
    "# dmo_auto(status=True)\n",
    "sym.init_printing(use_latex='mathjax', latex_mode='equation*')\n",
    "x, y, z, k, w, m = sym.symbols('x, y, z, k, w, m')\n",
    "def printmd(string):\n",
    "    display(Markdown(string))"
   ]
  },
  {
   "cell_type": "markdown",
   "metadata": {},
   "source": [
    "There are several ways to define linear matrixes in python.  Using Sympy, we define a matrix using the Sympy.Matrix class but elsewhere in python (Numpy,SciPy, ex) it is usually better to use np.arrays than matrixes.  Sympy is the primary way to covert code into classical math symbols in python and thus, is used extensively on the pages of this website.  Sypmy.Matrix's are not directly the same thing as Numpy Arrays but they can be converted, one into the other."
   ]
  },
  {
   "cell_type": "markdown",
   "metadata": {},
   "source": [
    "\\begin{equation*}\n",
    "\\left[\n",
    "\\begin{matrix}9 & 2 & 3 & 5 \\\\4 & 5 & 6 & 4 \\\\7 & 8 & 9 & 6 \\\\11 & 13 & 17 & 19 \\end{matrix}\n",
    "\\right]\n",
    "+\n",
    "\\left[\n",
    "\\begin{matrix}9 & 2 & 3 & 5 \\\\4 & 5 & 6 & 4 \\\\7 & 8 & 9 & 6 \\\\11 & 13 & 17 & 19 \\end{matrix}\n",
    "\\right]\n",
    "=\n",
    "\\left[\\begin{matrix}18 & 4 & 6 & 10 \\\\8 & 10 & 12 & 8 \\\\14 & 16 & 18 & 12 \\\\22 & 26 & 34 & 38 \\end{matrix}\\right]\n",
    "\\end{equation*}"
   ]
  },
  {
   "cell_type": "code",
   "execution_count": 63,
   "metadata": {
    "tags": []
   },
   "outputs": [
    {
     "output_type": "execute_result",
     "data": {
      "text/plain": "⎡9   2   3   apple⎤\n⎢                 ⎥\n⎢4   5   6     4  ⎥\n⎢                 ⎥\n⎢7   8   9     6  ⎥\n⎢                 ⎥\n⎣11  13  17   19  ⎦",
      "text/latex": "\\begin{equation*}\\left[\\begin{matrix}9 & 2 & 3 & apple\\\\4 & 5 & 6 & 4\\\\7 & 8 & 9 & 6\\\\11 & 13 & 17 & 19\\end{matrix}\\right]\\end{equation*}"
     },
     "metadata": {},
     "execution_count": 63
    },
    {
     "output_type": "execute_result",
     "data": {
      "text/plain": "⎡18  4   6   2⋅apple⎤\n⎢                   ⎥\n⎢8   10  12     8   ⎥\n⎢                   ⎥\n⎢14  16  18    12   ⎥\n⎢                   ⎥\n⎣22  26  34    38   ⎦",
      "text/latex": "\\begin{equation*}\\left[\\begin{matrix}18 & 4 & 6 & 2 apple\\\\8 & 10 & 12 & 8\\\\14 & 16 & 18 & 12\\\\22 & 26 & 34 & 38\\end{matrix}\\right]\\end{equation*}"
     },
     "metadata": {},
     "execution_count": 63
    }
   ],
   "source": [
    "#Syntax of a Sympy matrix and adding\n",
    "m=sym.Matrix([[9,2,3,' apple'],[4,5,6,4],[7,8,9,6],[11,13,17,19]])\n",
    "m\n",
    "m+m"
   ]
  },
  {
   "cell_type": "code",
   "execution_count": null,
   "metadata": {},
   "outputs": [],
   "source": []
  }
 ]
}